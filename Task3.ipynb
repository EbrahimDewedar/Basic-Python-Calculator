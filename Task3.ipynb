{
 "cells": [
  {
   "cell_type": "markdown",
   "id": "e8a52550-1966-4d6c-9f3f-f595102b45d4",
   "metadata": {},
   "source": [
    "# Basic Python Calculator\n",
    "\n",
    "## Introduction\n",
    "\n",
    "This project implements a simple interactive calculator in Python. Users can perform basic arithmetic operations such as addition, subtraction, multiplication, and division. The calculator runs in a loop, allowing multiple operations until the user chooses to exit.\n",
    "\n",
    "## Features\n",
    "\n",
    "- Supports Addition, Subtraction, Multiplication, and Division.\n",
    "\n",
    "- Prevents division by zero.\n",
    "\n",
    "- Allows continuous calculations until the user chooses to exit.\n",
    "\n",
    "- Handles invalid inputs gracefully."
   ]
  },
  {
   "cell_type": "markdown",
   "id": "62b6eda2-1966-4199-ba45-2aec521165be",
   "metadata": {},
   "source": [
    "# Code Implementation"
   ]
  },
  {
   "cell_type": "code",
   "execution_count": 2,
   "id": "f87e6065-d32a-4487-9fbf-572d76684d24",
   "metadata": {},
   "outputs": [],
   "source": [
    "calc=True\n",
    "while calc is True:\n",
    "    operation=int(input('Select an operation:\\n1)Addition\\n2)Subtraction\\n3)Multiplication\\n4)Division\\n5)Exit\\nSelect an operation(1/2/3/4/5):'))\n",
    "    if operation==1:\n",
    "        num1=float(input('Enter the first number'))\n",
    "        num2=float(input('Enter the second number'))\n",
    "        print(num1+num2)\n",
    "    elif operation==2:\n",
    "        num1=float(input('Enter the first number'))\n",
    "        num2=float(input('Enter the second number'))\n",
    "        print(num1-num2)\n",
    "    elif operation==3:\n",
    "        num1=float(input('Enter the first number'))\n",
    "        num2=float(input('Enter the second number'))\n",
    "        print(num1*num2)\n",
    "    elif operation==4:\n",
    "        num1=float(input('Enter the first number'))\n",
    "        num2=float(input('Enter the second number'))\n",
    "        if num2==0:\n",
    "            print('unavailable division by Zero')\n",
    "        else:\n",
    "            num1=float(input('Enter the first number'))\n",
    "            num2=float(input('Enter the second number'))\n",
    "            print(num1/num2)\n",
    "    elif operation==5:\n",
    "        calc=False\n",
    "        print('GoodBye')\n",
    "    else:\n",
    "        print('invalid input')\n",
    "    another_cal=input('Do you want to perform another calculation?(yes/no)')\n",
    "    if another_cal=='yes':\n",
    "        calc=True\n",
    "    elif another_cal=='no':\n",
    "        print('thanks for using Calculator')\n",
    "        break\n",
    "    else:\n",
    "        print('Invalid Input')\n",
    "        \n",
    "        "
   ]
  },
  {
   "cell_type": "markdown",
   "id": "5b9a5928-3b8d-45cf-a873-35c60d26124d",
   "metadata": {},
   "source": [
    "## How It Works\n",
    "\n",
    "- The program prompts the user to select an operation.\n",
    "\n",
    "- Based on the selection, it asks for two numbers.\n",
    "\n",
    "- It performs the selected operation and prints the result.\n",
    "\n",
    "- The user is then asked if they want to perform another calculation.\n",
    "\n",
    "- The loop continues until the user chooses to exit."
   ]
  },
  {
   "cell_type": "code",
   "execution_count": null,
   "id": "9648e55a-da06-40d0-9110-17f7408d25b0",
   "metadata": {},
   "outputs": [],
   "source": []
  },
  {
   "cell_type": "code",
   "execution_count": null,
   "id": "c3c962c4-8240-4d12-bb24-bc149a6fbfdc",
   "metadata": {},
   "outputs": [],
   "source": []
  },
  {
   "cell_type": "code",
   "execution_count": null,
   "id": "b825c6d0-4765-405a-8630-9d8c5cb25569",
   "metadata": {},
   "outputs": [],
   "source": []
  },
  {
   "cell_type": "code",
   "execution_count": null,
   "id": "d9a172bc-fffd-4821-a252-f554c9491ab8",
   "metadata": {},
   "outputs": [],
   "source": []
  },
  {
   "cell_type": "code",
   "execution_count": null,
   "id": "57bc9f7b-fdc4-4e51-a7fd-678be510c6db",
   "metadata": {},
   "outputs": [],
   "source": []
  }
 ],
 "metadata": {
  "kernelspec": {
   "display_name": "Python 3 (ipykernel)",
   "language": "python",
   "name": "python3"
  },
  "language_info": {
   "codemirror_mode": {
    "name": "ipython",
    "version": 3
   },
   "file_extension": ".py",
   "mimetype": "text/x-python",
   "name": "python",
   "nbconvert_exporter": "python",
   "pygments_lexer": "ipython3",
   "version": "3.12.7"
  }
 },
 "nbformat": 4,
 "nbformat_minor": 5
}
